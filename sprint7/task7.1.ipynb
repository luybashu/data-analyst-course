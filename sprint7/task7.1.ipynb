{
 "cells": [
  {
   "cell_type": "markdown",
   "id": "79843804-6dbe-4a6a-8351-fd69db3f7204",
   "metadata": {},
   "source": [
    "# Sprint 7. Introduction to Python"
   ]
  },
  {
   "cell_type": "code",
   "execution_count": 1,
   "id": "f989ed13-daeb-426a-a729-967d69dd4e45",
   "metadata": {},
   "outputs": [],
   "source": [
    "# import libraries \n",
    "import re\n",
    "\n",
    "from collections import Counter"
   ]
  },
  {
   "cell_type": "markdown",
   "id": "a26c53b7-6764-470f-83bd-b90a54c68f6f",
   "metadata": {},
   "source": [
    "## Level 1\n",
    "### Exercise 1\n",
    "**Body Mass Index Calculator**<br>\n",
    "Function that calculates the BMI based on user data (height and weight) and also return BMI category.\n",
    "\n",
    "[Body mass index (BMI): what is it and how is it calculated?](https://muysalud.com/salud/indice-de-masa-corporal-imc-que-es-y-como-se-calcula/)<br>\n",
    "[Calculate Your Body Mass Index](https://www.nhlbi.nih.gov/health/educational/lose_wt/BMI/bmi-m.htm)\n",
    "$$\n",
    "BMI = weight(kg) / height^2(m)\n",
    "$$\n",
    "\n",
    "*BMI Categories*:\n",
    "- Underweight: < 18.5\n",
    "- Normal weight: 18.5–24.9\n",
    "- Overweight: 25–29.9\n",
    "- Obesity: >= 30"
   ]
  },
  {
   "cell_type": "markdown",
   "id": "bfcf1514-c462-4125-a641-1ee0f4400b76",
   "metadata": {},
   "source": [
    "Category names and ranges are stored in separate variables for easy adjustment."
   ]
  },
  {
   "cell_type": "code",
   "execution_count": 2,
   "id": "b3d9a63e-92d9-4ed9-a7a6-c7dc1ef73ad1",
   "metadata": {},
   "outputs": [],
   "source": [
    "# BMI categories and ranges\n",
    "BMI_CAT = [\"Low weight\", \"Normal weight\", \"Overweight\", \"Obesity\"]\n",
    "BMI_RANGES = [18.5, 25, 30]\n",
    "\n",
    "# define function to calculate BMI\n",
    "def bmi_calculator():\n",
    "    \n",
    "    \"\"\"\n",
    "    Input: strings, user enter weight in kg and height in cm.\n",
    "    Calculates the BMI based on user input and \n",
    "    displays the BMA value and corresponding category\n",
    "    \"\"\"\n",
    "    \n",
    "    # enter and check weight and height\n",
    "    weight = None\n",
    "    height = None\n",
    "    \n",
    "    while weight is None:\n",
    "        try:\n",
    "            weight = int(input(\"Enter your weight in kilograms: \"))\n",
    "        except ValueError:\n",
    "            print(\"Invalid format. Please enter a whole number (e.g., 55)\")\n",
    "    \n",
    "    while height is None:\n",
    "        try:\n",
    "            height = int(input(\"Enter your height in centimeters: \"))\n",
    "            # check if height is < 100 cm\n",
    "            if height < 100:\n",
    "                print(\"Are you under 4 years old?\")\n",
    "                child = input(\"Answer Yes/No: \")\n",
    "                if child.lower() == 'no': \n",
    "                    print(\"Are you sure you haven't mixed up centimeters and meters?\")\n",
    "                    height = int(input(\"Re-enter your height in centimeters: \"))\n",
    "        except ValueError:\n",
    "            print(\"Invalid format. Please enter a whole number (e.g., 175)\") \n",
    "    \n",
    "    # calculate BMI\n",
    "    bmi = round(weight / (height/100)**2, 1)\n",
    "\n",
    "    # display BMI category\n",
    "    if bmi < BMI_RANGES[0]:\n",
    "        category = BMI_CAT[0]      # < 18.5, Low weight\n",
    "    elif bmi < BMI_RANGES[1]:\n",
    "        category = BMI_CAT[1]      #  [18.5, 25), Normal weight\n",
    "    elif bmi < BMI_RANGES[2]:\n",
    "        category = BMI_CAT[2]      # [25, 30), Overweight\n",
    "    else:\n",
    "        category = BMI_CAT[3]      # > 30, Obesity \n",
    "\n",
    "    print('*** Result ***')\n",
    "    print(\"BMI:\", bmi)\n",
    "    print(category)"
   ]
  },
  {
   "cell_type": "code",
   "execution_count": 3,
   "id": "b428e011-b072-4e8a-8642-12cb476a59a4",
   "metadata": {},
   "outputs": [
    {
     "name": "stdin",
     "output_type": "stream",
     "text": [
      "Enter your weight in kilograms:  sixty\n"
     ]
    },
    {
     "name": "stdout",
     "output_type": "stream",
     "text": [
      "Invalid format. Please enter a whole number (e.g., 55)\n"
     ]
    },
    {
     "name": "stdin",
     "output_type": "stream",
     "text": [
      "Enter your weight in kilograms:  60\n",
      "Enter your height in centimeters:  1.78\n"
     ]
    },
    {
     "name": "stdout",
     "output_type": "stream",
     "text": [
      "Invalid format. Please enter a whole number (e.g., 175)\n"
     ]
    },
    {
     "name": "stdin",
     "output_type": "stream",
     "text": [
      "Enter your height in centimeters:  78\n"
     ]
    },
    {
     "name": "stdout",
     "output_type": "stream",
     "text": [
      "Are you under 4 years old?\n"
     ]
    },
    {
     "name": "stdin",
     "output_type": "stream",
     "text": [
      "Answer Yes/No:  no\n"
     ]
    },
    {
     "name": "stdout",
     "output_type": "stream",
     "text": [
      "Are you sure you haven't mixed up centimeters and meters?\n"
     ]
    },
    {
     "name": "stdin",
     "output_type": "stream",
     "text": [
      "Re-enter your height in centimeters:  178\n"
     ]
    },
    {
     "name": "stdout",
     "output_type": "stream",
     "text": [
      "*** Result ***\n",
      "BMI: 18.9\n",
      "Normal weight\n"
     ]
    }
   ],
   "source": [
    "# test function\n",
    "bmi_calculator()"
   ]
  },
  {
   "cell_type": "markdown",
   "id": "73d8ae59-cd51-4d6e-bff6-ed0a4f3268c0",
   "metadata": {},
   "source": [
    "### Exercise 2\n",
    "\n",
    "**Temperature Converter** <br>\n",
    " Function that converts temperatures between Celsius (°C), Fahrenheit (°F) and Kelvin (K)."
   ]
  },
  {
   "cell_type": "code",
   "execution_count": 4,
   "id": "8d0af144-dbc3-4fb6-bacd-3aa35c7eed7d",
   "metadata": {},
   "outputs": [],
   "source": [
    "# define function to convert temperatures\n",
    "def temperature_converter():\n",
    "\n",
    "    \"\"\"\n",
    "    Input: 1) string: user enters a scale to convert\n",
    "    2) string: user enters temperature in the chosen scale\n",
    "    Converts temperatures between Celsius (°C), Fahrenheit (°F) \n",
    "    and Kelvin (K).\n",
    "    Output: temperatures converted in the other two scales.\n",
    "    \"\"\"\n",
    "\n",
    "    print('You can convert temperatures between Celsius (°C), Fahrenheit (°F), and Kelvin (K)')\n",
    "    # choose scale\n",
    "    scale = input('What do you want to convert? (Celsius, Fahrenheit or Kelvin): ').lower()\n",
    "    \n",
    "    # enter temperature and perform conversions\n",
    "    if scale in [\"celsius\", \"fahrenheit\", \"kelvin\"]:\n",
    "        try:\n",
    "            # enter temperature\n",
    "            temp = float(input(f'Enter the temperature in {scale}: '))\n",
    "            if scale == \"celsius\":\n",
    "                temp_kelvin = temp + 273.15\n",
    "                temp_fahrenheit = temp * 1.8 + 32\n",
    "                print('Temperature in °F: ', round(temp_fahrenheit, 2))\n",
    "                print('Temperature in Kelvin: ', round(temp_kelvin, 2))\n",
    "            elif scale == \"fahrenheit\":\n",
    "                temp_celsius = (temp - 32) * 0.5556\n",
    "                temp_kelvin = temp_celsius + 273.15\n",
    "                print('Temperature in °C: ', round(temp_celsius, 2))\n",
    "                print('Temperature in Kelvin: ', round(temp_kelvin, 2))\n",
    "            elif scale == \"kelvin\":\n",
    "                temp_celsius = temp - 273.15\n",
    "                temp_fahrenheit = 1.8 * temp_celsius + 32\n",
    "                print('Temperature in °C: ', round(temp_celsius, 2))\n",
    "                print('Temperature in °F: ', round(temp_fahrenheit, 2))\n",
    "        except ValueError:\n",
    "            print(\"Invalid format. Please enter a numeric value for the temperature.\")\n",
    "            print('***')\n",
    "            temperature_converter()\n",
    "    else:\n",
    "        print(\"Invalid scale. Please choose only between Celsius, Fahrenheit, or Kelvin.\")\n",
    "        print('***')\n",
    "        temperature_converter()"
   ]
  },
  {
   "cell_type": "code",
   "execution_count": 5,
   "id": "c07ce0af-7ed0-4230-98ef-d72718e30fcf",
   "metadata": {},
   "outputs": [
    {
     "name": "stdout",
     "output_type": "stream",
     "text": [
      "You can convert temperatures between Celsius (°C), Fahrenheit (°F), and Kelvin (K)\n"
     ]
    },
    {
     "name": "stdin",
     "output_type": "stream",
     "text": [
      "What do you want to convert? (Celsius, Fahrenheit or Kelvin):  rankine\n"
     ]
    },
    {
     "name": "stdout",
     "output_type": "stream",
     "text": [
      "Invalid scale. Please choose only between Celsius, Fahrenheit, or Kelvin.\n",
      "***\n",
      "You can convert temperatures between Celsius (°C), Fahrenheit (°F), and Kelvin (K)\n"
     ]
    },
    {
     "name": "stdin",
     "output_type": "stream",
     "text": [
      "What do you want to convert? (Celsius, Fahrenheit or Kelvin):  celsius\n",
      "Enter the temperature in celsius:  7o\n"
     ]
    },
    {
     "name": "stdout",
     "output_type": "stream",
     "text": [
      "Invalid format. Please enter a numeric value for the temperature.\n",
      "***\n",
      "You can convert temperatures between Celsius (°C), Fahrenheit (°F), and Kelvin (K)\n"
     ]
    },
    {
     "name": "stdin",
     "output_type": "stream",
     "text": [
      "What do you want to convert? (Celsius, Fahrenheit or Kelvin):  celsius\n",
      "Enter the temperature in celsius:  -20\n"
     ]
    },
    {
     "name": "stdout",
     "output_type": "stream",
     "text": [
      "Temperature in °F:  -4.0\n",
      "Temperature in Kelvin:  253.15\n"
     ]
    }
   ],
   "source": [
    "# test function\n",
    "temperature_converter()"
   ]
  },
  {
   "cell_type": "markdown",
   "id": "25eca0af-cd36-499b-9d1d-e1c71d171edc",
   "metadata": {},
   "source": [
    "### Exercise 3\n",
    "\n",
    "**Word Counter**<br>\n",
    "Function that, given a text, calculates the number of times each word appears.\n",
    "\n",
    "\\* *The text is assumed to contain numbers with decimal points that can have different separators (such as 34.2 or 67,57) and words with apostrophes (for example, mice's or weeks'). The function handles these cases appropriately.*"
   ]
  },
  {
   "cell_type": "code",
   "execution_count": 6,
   "id": "e4cb8975-a9ad-4944-aa38-7c260f3bea9c",
   "metadata": {},
   "outputs": [],
   "source": [
    "# define function to count words in text\n",
    "def words_counter(text):\n",
    "\n",
    "    \"\"\"\n",
    "    Input: string\n",
    "    Counts frequency of words and numbers in a given text.\n",
    "    Output: dictionary with unique words/numbers as keys and \n",
    "    their frequencies as values, sorted by keys.\n",
    "    \"\"\"\n",
    "\n",
    "    # find all numbers AND words in text using regexpr\n",
    "    pattern = r\"\\d+[.,]?\\d*|\\w+'?\\w*\"    # keep \"'\" for words and \".,\" for numbers\n",
    "    all_words = re.findall(pattern, text.lower())\n",
    "    # replace ',' with '.' in numbers\n",
    "    all_words = [word.replace(',', '.') for word in all_words]\n",
    "\n",
    "    # count words frequency\n",
    "    words_freq = Counter(all_words)\n",
    "    # sort dictionary by key\n",
    "    words_freq = dict(sorted(words_freq.items()))\n",
    "\n",
    "    return words_freq"
   ]
  },
  {
   "cell_type": "code",
   "execution_count": 7,
   "id": "c943a5bf-5d51-4a6b-ad18-3570e133fa45",
   "metadata": {},
   "outputs": [
    {
     "name": "stdout",
     "output_type": "stream",
     "text": [
      "'Word': Frequency\n"
     ]
    },
    {
     "data": {
      "text/plain": [
       "{'10': 1,\n",
       " '100': 1,\n",
       " '45': 1,\n",
       " '45.6': 2,\n",
       " '88.7': 1,\n",
       " 'alba': 1,\n",
       " 'azucena': 1,\n",
       " 'behaviour': 1,\n",
       " 'casta': 1,\n",
       " 'cerrada': 1,\n",
       " 'corola': 1,\n",
       " 'de': 2,\n",
       " 'me': 2,\n",
       " \"mice's\": 1,\n",
       " 'nácar': 1,\n",
       " 'perfume': 1,\n",
       " 'que': 1,\n",
       " 'quieres': 2,\n",
       " 'sea': 1,\n",
       " 'sobre': 1,\n",
       " 'tenue': 1,\n",
       " 'todas': 1,\n",
       " 'trip': 1,\n",
       " 'two': 1,\n",
       " 'tú': 1,\n",
       " \"weeks'\": 1}"
      ]
     },
     "execution_count": 7,
     "metadata": {},
     "output_type": "execute_result"
    }
   ],
   "source": [
    "# text example\n",
    "my_text = ''' Tú me quieres alba,\n",
    "me quieres de nácar -\n",
    "Que sea azucena\n",
    "Sobre todas, casta?!\n",
    "De perfume tenue!!!\n",
    "Corola cerrada.\n",
    "Mice's behaviour. Two weeks' trip.\n",
    "45! 45,6? 45.6\n",
    "10 - 100\n",
    "88.7.'''\n",
    "\n",
    "# test function \n",
    "print(\"'Word': Frequency\")\n",
    "words_counter(my_text)"
   ]
  },
  {
   "cell_type": "markdown",
   "id": "a4b684d6-ad9c-4d12-95be-a002551a3439",
   "metadata": {},
   "source": [
    "### Exercise 4\n",
    "**Invert Dictionary**<br>\n",
    "Function that swaps the keys and values in the dictionary. The keys and values in the original dictionary are unique; if they are not, the function generates a warning message."
   ]
  },
  {
   "cell_type": "code",
   "execution_count": 8,
   "id": "44944e04",
   "metadata": {},
   "outputs": [],
   "source": [
    "# define function to invert dictionary\n",
    "def invert_dict_or_error(original_dict):\n",
    "    \n",
    "    \"\"\"\n",
    "    Input: dictionary\n",
    "    Inverts the keys and values of a dictionary.\n",
    "    Displays an error if the original dictionary\n",
    "    contains non-unique values.\n",
    "    Output: inverted dictionary or error\n",
    "    \"\"\"\n",
    "\n",
    "    # build dictionary swapping keys and values\n",
    "    inv_dict = {v: k for k, v in original_dict.items()}\n",
    "\n",
    "    # raise an error in the case of non-unique values in original dictionary\n",
    "    if len(inv_dict) != len(original_dict):\n",
    "        return 'Error: multiple keys for one value'\n",
    "    else:\n",
    "        return inv_dict"
   ]
  },
  {
   "cell_type": "code",
   "execution_count": 9,
   "id": "3c9ccc5b-a424-4df5-9c7b-1323ce878c6b",
   "metadata": {},
   "outputs": [
    {
     "name": "stdout",
     "output_type": "stream",
     "text": [
      "*** Case 1: values in original dictionary are unique ***\n",
      "Input:  {'a': '1', 'b': '2', 'c': '3'}\n",
      "Output: {'1': 'a', '2': 'b', '3': 'c'}\n",
      "\n",
      "*** Case 2: values in original dictionary are not unique ***\n",
      "Input:  {'x': 'apple', 'y': 'banana', 'z': 'banana'}\n",
      "Output: Error: multiple keys for one value\n"
     ]
    }
   ],
   "source": [
    "# examples to test function\n",
    "# dictionary with unique values\n",
    "ex_dict_unique = {'a': '1', 'b': '2', 'c': '3'}\n",
    "# dictionary with non-unique values\n",
    "ex_dict_nonunique = {'x': 'apple', 'y': 'banana', 'z': 'banana'}\n",
    "\n",
    "# test function\n",
    "print('*** Case 1: values in original dictionary are unique ***')\n",
    "print(\"Input: \", ex_dict_unique)\n",
    "print(\"Output:\", invert_dict_or_error(ex_dict_unique))\n",
    "print()\n",
    "print('*** Case 2: values in original dictionary are not unique ***')\n",
    "print(\"Input: \", ex_dict_nonunique)\n",
    "print(\"Output:\", invert_dict_or_error(ex_dict_nonunique))"
   ]
  },
  {
   "cell_type": "markdown",
   "id": "cc05cec2-2da2-49e7-b33b-e3bc6b1d0de2",
   "metadata": {},
   "source": [
    "## Level 2\n",
    "### Exercise 1\n",
    "\n",
    "**Invert dictionary with duplicate values**<br>\n",
    "The function swaps the keys and values ​​in the dictionary in the case where the values ​​in the original dictionary can be duplicated. In the inverted dictionary values ​​for the \"duplicate\" keys are stored as a list; if it is a single value, it is simply a string.\n",
    "\n",
    "*Example*<br>\n",
    "*Input*:<br>\n",
    "{'x': 'apple', 'y': 'banana', 'z': 'banana'}<br>\n",
    "*Output*:<br>\n",
    "{'apple': 'x', 'banana': \\['y', 'z'\\]}"
   ]
  },
  {
   "cell_type": "code",
   "execution_count": 10,
   "id": "ce53fa68-974b-4f94-a035-006f3bc0502c",
   "metadata": {},
   "outputs": [],
   "source": [
    "# define function to invert dictionary\n",
    "def invert_dict(original_dict):\n",
    "\n",
    "    \"\"\"\n",
    "    Input: dictionary\n",
    "    Inverts the keys and values of a dictionary.\n",
    "    Handles duplicate values by storing corresponding keys in a list.\n",
    "    If a value has only one corresponding key, it is not stored as a list.\n",
    "    Output: inverted dictionary\n",
    "    \"\"\"\n",
    "\n",
    "    # build dictionary swapping keys and values\n",
    "    inv_dict = {}\n",
    "    for k, v in original_dict.items():\n",
    "        inv_dict[v] = inv_dict.get(v, []) + [k]\n",
    "\n",
    "    # single values are not lists\n",
    "    for k in inv_dict:\n",
    "        if len(inv_dict[k]) == 1:\n",
    "            inv_dict[k] = inv_dict[k][0]\n",
    "        \n",
    "    return inv_dict        "
   ]
  },
  {
   "cell_type": "code",
   "execution_count": 11,
   "id": "6f86fb57-e182-4093-9003-0bfcb42345e6",
   "metadata": {},
   "outputs": [
    {
     "name": "stdout",
     "output_type": "stream",
     "text": [
      "*** Case 1: values in original dictionary are unique ***\n",
      "Input:  {'a': '1', 'b': '2', 'c': '3'}\n",
      "Output: {'1': 'a', '2': 'b', '3': 'c'}\n",
      "\n",
      "*** Case 2: values in original dictionary are not unique ***\n",
      "Input:  {'x': 'apple', 'y': 'banana', 'z': 'banana'}\n",
      "Output: {'apple': 'x', 'banana': ['y', 'z']}\n"
     ]
    }
   ],
   "source": [
    "# examples to test function\n",
    "# dictionary with unique values\n",
    "ex_dict_unique = {'a': '1', 'b': '2', 'c': '3'}\n",
    "# dictionary with non-unique values\n",
    "ex_dict_nonunique = {'x': 'apple', 'y': 'banana', 'z': 'banana'}\n",
    "\n",
    "# test function\n",
    "print('*** Case 1: values in original dictionary are unique ***')\n",
    "print(\"Input: \", ex_dict_unique)\n",
    "print(\"Output:\", invert_dict(ex_dict_unique))\n",
    "print()\n",
    "print('*** Case 2: values in original dictionary are not unique ***')\n",
    "print(\"Input: \", ex_dict_nonunique)\n",
    "print(\"Output:\", invert_dict(ex_dict_nonunique))"
   ]
  },
  {
   "cell_type": "markdown",
   "id": "6e0a7ea6-d988-41af-acb5-c586b4b10af7",
   "metadata": {},
   "source": [
    "### Exercise 2\n",
    "**Change data types to floats** <br>\n",
    "Function that generates two lists from list of data: the first with all elements converted to floats and the second with the unconverted elements.\n",
    "\n",
    "*Example:*<br>\n",
    "*Input:*<br>\n",
    "\\['1.3', 'one' , '1e10' , 'seven', '3-1/2', ('2',1,1.4,'not-a-number'), \\[1,2,'3','3.4'\\]\\]<br>\n",
    "*Output:*<br>\n",
    "(\\[1.3, 10000000000.0, 2.0, 1.0, 1.4, 1.0, 2.0, 3.0, 3.4\\],<br> \n",
    "\\['one', 'seven', '3-1/2', 'not-a-number'\\])"
   ]
  },
  {
   "cell_type": "markdown",
   "id": "3cb05b17-17dd-457a-8b58-062fe1802515",
   "metadata": {},
   "source": [
    "First, let's create a function to flatten our input data: put all the values ​​into a single list."
   ]
  },
  {
   "cell_type": "code",
   "execution_count": 12,
   "id": "2bacdda4",
   "metadata": {},
   "outputs": [],
   "source": [
    "# define function to flatten list\n",
    "def flatten_list(complex_list):\n",
    "    \n",
    "    \"\"\"\n",
    "    Input: potentially nested list with mixed data types\n",
    "    Flattens nested list into a single list.\n",
    "    Output: simple list\n",
    "    \"\"\"\n",
    "    \n",
    "    simple_list = []\n",
    "    for element in complex_list:\n",
    "        \n",
    "        # append if element is a string or number\n",
    "        if isinstance(element, (str, int, float)): \n",
    "            simple_list.append(element)\n",
    "        # otherwise - extend with elements from nested objects\n",
    "        else:\n",
    "            simple_list.extend(flatten_list(element))\n",
    "    return simple_list\n",
    "\n",
    "# define function to change data type to float\n",
    "def convert_to_float(original_list):\n",
    "\n",
    "    \"\"\"\n",
    "    Input: potentially nested list with mixed data types\n",
    "    Flattens nested list into a single list and\n",
    "    converts its elements to floats.\n",
    "    Output: tuple with two lists:\n",
    "      - successfully converted floats\n",
    "      - elements that could not be converted\n",
    "    \"\"\"\n",
    "    \n",
    "    converted = []\n",
    "    error = []\n",
    "    for item in flatten_list(original_list):\n",
    "        try:\n",
    "            converted.append(float(item))\n",
    "        except:\n",
    "            error.append(item)\n",
    "\n",
    "    return converted, error"
   ]
  },
  {
   "cell_type": "code",
   "execution_count": 13,
   "id": "e8960a64-949c-4d4d-8998-70bef5abbc03",
   "metadata": {},
   "outputs": [
    {
     "name": "stdout",
     "output_type": "stream",
     "text": [
      "Converted elements\n",
      "[1.3, 10000000000.0, 2.0, 1.0, 1.4, 1.0, 2.0, 3.0, 3.4]\n",
      "\n",
      "Errors\n",
      "['one', 'seven', '3-1/2', 'not-a-number']\n"
     ]
    }
   ],
   "source": [
    "# example to test\n",
    "ex_list = ['1.3', 'one', '1e10', 'seven', '3-1/2', \n",
    "           ('2', 1, 1.4, 'not-a-number'), \n",
    "           [1, 2, '3', '3.4']\n",
    "          ]\n",
    "\n",
    "# test function \n",
    "print('Converted elements')\n",
    "print(convert_to_float(ex_list)[0])\n",
    "print()\n",
    "print('Errors')\n",
    "print(convert_to_float(ex_list)[1])"
   ]
  },
  {
   "cell_type": "markdown",
   "id": "bfb4a322-d66d-4420-9780-73d90903ea42",
   "metadata": {},
   "source": [
    "## Level 3\n",
    "### Exercise 1\n",
    "\n",
    "**Word Counter and Classifier**<br>\n",
    "Function calculates the frequency of each word in the TXT file and orders words within the usual dictionary entries according to their first letters, that is, the keys go from A to Z and within A - from A to Z."
   ]
  },
  {
   "cell_type": "code",
   "execution_count": 14,
   "id": "afd98d84-cdf6-4eef-80a2-f596c8a840d8",
   "metadata": {},
   "outputs": [],
   "source": [
    "# define function to count and order words in TXT file\n",
    "def words_counter_classifier(file_path):\n",
    "\n",
    "    \"\"\"\n",
    "    Input: string - file path.\n",
    "    Reads TXT file, counts frequency of each  word,\n",
    "    and organizes them into a dictionary based on the \n",
    "    first letter of each word. \n",
    "    Numbers are stored in the key 'number', \n",
    "    and words are sorted alphabetically.\n",
    "    Output: dictionary of dictionaries\n",
    "    \"\"\"\n",
    "\n",
    "    # read TXT file\n",
    "    with open(file_path, 'r', encoding='utf-8') as file:\n",
    "        text = file.read()\n",
    "    \n",
    "    # count frequency of each word \n",
    "    words_freq = words_counter(text)\n",
    "    \n",
    "    # build dictionary of dictionaries\n",
    "    ordered_words = {}\n",
    "    for word, freq in words_freq.items():\n",
    "        # key for ordered words\n",
    "        if word[0].isdigit():\n",
    "            key = 'number'\n",
    "        else:\n",
    "            key = word[0]\n",
    "        \n",
    "        # values for key \n",
    "        if key not in ordered_words:\n",
    "            ordered_words[key] = {}\n",
    "        ordered_words[key][word] = freq\n",
    "      \n",
    "    return ordered_words"
   ]
  },
  {
   "cell_type": "code",
   "execution_count": 16,
   "id": "6ddb142f-acdd-47ce-a68f-af3e1134f794",
   "metadata": {},
   "outputs": [
    {
     "name": "stdout",
     "output_type": "stream",
     "text": [
      "Count and sort words in file:  tu_me_quieres_blanca.txt\n"
     ]
    },
    {
     "data": {
      "text/plain": [
       "{'a': {'a': 3,\n",
       "  'agua': 1,\n",
       "  'al': 2,\n",
       "  'alba': 4,\n",
       "  'alcobas': 1,\n",
       "  'alimenta': 1,\n",
       "  'alma': 1,\n",
       "  'amarga': 1,\n",
       "  'azucena': 1},\n",
       " 'b': {'baco': 1,\n",
       "  'banquete': 1,\n",
       "  'bebe': 1,\n",
       "  'blanca': 3,\n",
       "  'boca': 1,\n",
       "  'bosques': 1,\n",
       "  'buen': 1},\n",
       " 'c': {'cabañas': 1,\n",
       "  'carnes': 2,\n",
       "  'casta': 3,\n",
       "  'cerrada': 1,\n",
       "  'con': 4,\n",
       "  'conservas': 1,\n",
       "  'copas': 1,\n",
       "  'corola': 1,\n",
       "  'corriste': 1,\n",
       "  'cuando': 2,\n",
       "  'cubierto': 1,\n",
       "  'cuerpo': 1,\n",
       "  'cuáles': 1},\n",
       " 'd': {'de': 8, 'dejaste': 1, 'del': 1, 'diga': 1, 'dios': 2, 'duerme': 1},\n",
       " 'e': {'el': 4,\n",
       "  'ellas': 1,\n",
       "  'en': 4,\n",
       "  'engaño': 1,\n",
       "  'enredada': 1,\n",
       "  'entonces': 1,\n",
       "  'escarcha': 1,\n",
       "  'espumas': 1,\n",
       "  'esqueleto': 1,\n",
       "  'estrago': 1},\n",
       " 'f': {'festejando': 1, 'filtrado': 1, 'frutos': 1},\n",
       " 'h': {'habla': 1,\n",
       "  'hacia': 1,\n",
       "  'haya': 1,\n",
       "  'hayas': 1,\n",
       "  'hermana': 1,\n",
       "  'hombre': 1,\n",
       "  'hubiste': 1,\n",
       "  'huye': 1},\n",
       " 'i': {'intacto': 1},\n",
       " 'j': {'jardines': 1},\n",
       " 'l': {'la': 3,\n",
       "  'labios': 1,\n",
       "  'las': 7,\n",
       "  'lo': 2,\n",
       "  'los': 4,\n",
       "  'luna': 1,\n",
       "  'lévate': 1,\n",
       "  'límpiate': 1},\n",
       " 'm': {'mano': 1,\n",
       "  'manos': 1,\n",
       "  'margarita': 1,\n",
       "  'me': 10,\n",
       "  'mi': 1,\n",
       "  'mieles': 1,\n",
       "  'milagros': 1,\n",
       "  'mojada': 1,\n",
       "  'montaña': 1,\n",
       "  'morados': 1},\n",
       " 'n': {'negros': 1, 'ni': 2, 'no': 1, 'nácar': 1, 'nívea': 2},\n",
       " 'p': {'perdone': 2,\n",
       "  'perfume': 1,\n",
       "  'por': 2,\n",
       "  'pretendes': 3,\n",
       "  'preténdeme': 3,\n",
       "  'puesto': 1,\n",
       "  'pájaros': 1,\n",
       "  'pámpanos': 1},\n",
       " 'q': {'que': 6, 'quedó': 1, 'quieres': 6},\n",
       " 'r': {'rayo': 1, 'raíz': 1, 'renueva': 1, 'rocas': 1, 'rojo': 1},\n",
       " 's': {'salitre': 1, 'se': 2, 'sea': 1, 'sean': 1, 'sobre': 2, 'sé': 1},\n",
       " 't': {'te': 3,\n",
       "  'tejidos': 1,\n",
       "  'tenue': 1,\n",
       "  'tierra': 1,\n",
       "  'toca': 1,\n",
       "  'todas': 2,\n",
       "  'todavía': 1,\n",
       "  'tornadas': 1,\n",
       "  'tú': 8},\n",
       " 'u': {'un': 1, 'una': 1},\n",
       " 'v': {'vestido': 1, 'vete': 1, 'vive': 1},\n",
       " 'y': {'y': 5}}"
      ]
     },
     "execution_count": 16,
     "metadata": {},
     "output_type": "execute_result"
    }
   ],
   "source": [
    "# example file\n",
    "poem = 'tu_me_quieres_blanca.txt'\n",
    "\n",
    "# test function \n",
    "print('Count and sort words in file: ', poem)\n",
    "words_counter_classifier(poem)"
   ]
  },
  {
   "cell_type": "markdown",
   "id": "4efd85d1-abb9-434e-90df-99d309fd40b9",
   "metadata": {},
   "source": [
    "Let's also test the function with text containing numbers."
   ]
  },
  {
   "cell_type": "code",
   "execution_count": 17,
   "id": "fdb7cc75-b5e9-4199-9c6f-53c622d44fce",
   "metadata": {},
   "outputs": [
    {
     "name": "stdout",
     "output_type": "stream",
     "text": [
      "my_text.txt\n",
      "------------\n",
      "Tú me quieres alba,\n",
      "me quieres de espumas,\n",
      "me quieres de nácar - \n",
      "Que sea azucena\n",
      "Sobre todas, casta?!!\n",
      "De perfume tenue!!!\n",
      "Corola cerrada .\n",
      "\n",
      "Mice's behaviour. Two weeks' trip.\n",
      "45! 45,6? 45.6\n",
      "10 - 100\n",
      "88.7.\n",
      "------------\n",
      "Count and sort words in file:  my_text.txt\n"
     ]
    },
    {
     "data": {
      "text/plain": [
       "{'number': {'10': 1, '100': 1, '45': 1, '45.6': 2, '88.7': 1},\n",
       " 'a': {'alba': 1, 'azucena': 1},\n",
       " 'b': {'behaviour': 1},\n",
       " 'c': {'casta': 1, 'cerrada': 1, 'corola': 1},\n",
       " 'd': {'de': 3},\n",
       " 'e': {'espumas': 1},\n",
       " 'm': {'me': 3, \"mice's\": 1},\n",
       " 'n': {'nácar': 1},\n",
       " 'p': {'perfume': 1},\n",
       " 'q': {'que': 1, 'quieres': 3},\n",
       " 's': {'sea': 1, 'sobre': 1},\n",
       " 't': {'tenue': 1, 'todas': 1, 'trip': 1, 'two': 1, 'tú': 1},\n",
       " 'w': {\"weeks'\": 1}}"
      ]
     },
     "execution_count": 17,
     "metadata": {},
     "output_type": "execute_result"
    }
   ],
   "source": [
    "# example files\n",
    "my_file = 'my_text.txt'\n",
    "\n",
    "# print example\n",
    "print(my_file)\n",
    "print('------------')\n",
    "with open(my_file, 'r', encoding='utf-8') as file:\n",
    "    my_text = file.read()\n",
    "print(my_text)\n",
    "print('------------')\n",
    "\n",
    "# test function \n",
    "print('Count and sort words in file: ', my_file)\n",
    "words_counter_classifier(my_file)"
   ]
  }
 ],
 "metadata": {
  "kernelspec": {
   "display_name": "Python 3 (ipykernel)",
   "language": "python",
   "name": "python3"
  },
  "language_info": {
   "codemirror_mode": {
    "name": "ipython",
    "version": 3
   },
   "file_extension": ".py",
   "mimetype": "text/x-python",
   "name": "python",
   "nbconvert_exporter": "python",
   "pygments_lexer": "ipython3",
   "version": "3.10.14"
  }
 },
 "nbformat": 4,
 "nbformat_minor": 5
}
