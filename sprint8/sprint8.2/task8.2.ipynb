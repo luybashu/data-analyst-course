{
 "cells": [
  {
   "cell_type": "markdown",
   "id": "c24db533-5fab-4c21-9415-3c347091695a",
   "metadata": {},
   "source": [
    "# Task 8.02. Integrating Python and Power BI\n",
    "\n",
    "This task involves:\n",
    "- Establishing a Power BI connection to Python to load data from previously created `transactions_db` database\n",
    "- Generating custom visualizations with the Seaborn and Matplotlib libraries in Power BI report, taking advantage of the analytical capabilities of Python"
   ]
  },
  {
   "cell_type": "markdown",
   "id": "9ad68e37",
   "metadata": {},
   "source": [
    "## Python script to upload data into Power BI\n",
    "For brevity (to avoid repeating data preprocessing and feature engineering), we will use the `transactions_companies_users.csv` file created in Sprint 8.1, which contains a dataframe with joined tables from the `transactions_db` database. <br>\n",
    "Columns with \"float\" datatype are changed to \"strings\" to avoid possible conflicts in PowerBI."
   ]
  },
  {
   "cell_type": "code",
   "execution_count": 2,
   "id": "a4f1efa3-08f3-4f3c-8daf-78c156bc2698",
   "metadata": {},
   "outputs": [],
   "source": [
    "import pandas as pd\n",
    "\n",
    "# read .csv and set datime type for date columns \n",
    "PATH = r'D:\\Python\\transactions_companies_users.csv'\n",
    "data = pd.read_csv(PATH, parse_dates=['transaction_date', 'birth_date'])\n",
    "\n",
    "# change 'float' columns to 'object' to correct representation in Power BI\n",
    "data[data.columns[data.dtypes == 'float']] = data[data.columns[data.dtypes == 'float']].astype('object')"
   ]
  },
  {
   "cell_type": "markdown",
   "id": "f51e506d",
   "metadata": {},
   "source": [
    "## Python scripts for visualizations\n",
    "### Level 1.\n",
    "#### Exercise 1."
   ]
  },
  {
   "cell_type": "code",
   "execution_count": null,
   "id": "eb1bc38f",
   "metadata": {},
   "outputs": [],
   "source": [
    "import matplotlib.pyplot as plt\n",
    "import seaborn as sns\n",
    "\n",
    "fig, axs = plt.subplots(2, 1, figsize=(4, 6))\n",
    "fig.suptitle(\"Distribution of Transaction Amounts\")\n",
    "\n",
    "# histogram\n",
    "(sns.histplot(data=dataset['amount'], kde=True, ax=axs[0], bins=50)\n",
    "    .set(xlabel=None, ylabel='Number')\n",
    ")\n",
    "\n",
    "# boxplot\n",
    "(sns.boxplot(data=dataset['amount'], ax=axs[1], width=0.3, orient='h')\n",
    "    .set(yticklabels=[], xlabel='Amount, €')\n",
    ")\n",
    "plt.show()"
   ]
  },
  {
   "cell_type": "markdown",
   "id": "6962b2d3",
   "metadata": {},
   "source": [
    "#### Exercise 2."
   ]
  },
  {
   "cell_type": "code",
   "execution_count": null,
   "id": "ea317024",
   "metadata": {},
   "outputs": [],
   "source": [
    "import matplotlib.pyplot as plt\n",
    "import seaborn as sns\n",
    "\n",
    "# scatterplot\n",
    "sns.scatterplot(data=dataset.query('declined==0'), \n",
    "                x='num_products', \n",
    "                y='amount',\n",
    "                alpha=0.3)\n",
    "\n",
    "plt.title('Sale Amount vs. Number of Products')\n",
    "plt.xlabel('Number of products')\n",
    "plt.gca().xaxis.get_major_locator().set_params(integer=True)\n",
    "plt.ylabel('Amount, €')\n",
    "plt.show()"
   ]
  },
  {
   "cell_type": "markdown",
   "id": "216f072b",
   "metadata": {},
   "source": [
    "#### Exercise 3."
   ]
  },
  {
   "cell_type": "code",
   "execution_count": null,
   "id": "76c442f4",
   "metadata": {},
   "outputs": [],
   "source": [
    "import matplotlib.pyplot as plt\n",
    "import seaborn as sns\n",
    "\n",
    "# barplot\n",
    "sns.countplot(\n",
    "    data=dataset.query('declined==0'), \n",
    "    y='company_country', \n",
    "    order = dataset['company_country'].value_counts().index,\n",
    "    orient='h'\n",
    ")\n",
    "\n",
    "plt.xlabel(None)\n",
    "plt.ylabel(None)\n",
    "plt.title('Number of Sales by Country')\n",
    "plt.show()"
   ]
  },
  {
   "cell_type": "markdown",
   "id": "cc834fe6",
   "metadata": {},
   "source": [
    "#### Exercise 4."
   ]
  },
  {
   "cell_type": "code",
   "execution_count": null,
   "id": "9c2f91eb",
   "metadata": {},
   "outputs": [],
   "source": [
    "import matplotlib.pyplot as plt\n",
    "import seaborn as sns\n",
    "\n",
    "# boxplot\n",
    "sns.boxplot(data=dataset.query('declined==0'), \n",
    "            x='user_country', \n",
    "            y='amount',\n",
    "            width=0.3)\n",
    "\n",
    "plt.title('Distribution of Sales by User Origin')\n",
    "plt.ylabel('Amount, €')\n",
    "plt.xlabel(None)\n",
    "plt.show()"
   ]
  },
  {
   "cell_type": "markdown",
   "id": "032362b1",
   "metadata": {},
   "source": [
    "#### Exercise 5."
   ]
  },
  {
   "cell_type": "code",
   "execution_count": null,
   "id": "472c1a20",
   "metadata": {},
   "outputs": [],
   "source": [
    "import matplotlib.pyplot as plt\n",
    "import pandas as pd\n",
    "import seaborn as sns\n",
    "\n",
    "# pivot table\n",
    "pivot = (pd.pivot_table(dataset, index='company_country', columns='user_country', \n",
    "                        values='id', aggfunc='count', margins=True)\n",
    "            .drop('All')\n",
    "            .sort_values('All')\n",
    "            .drop('All', axis=1)\n",
    "        )\n",
    "\n",
    "# stacked bar chart\n",
    "pivot.plot(stacked=True, kind='barh')\n",
    "\n",
    "plt.title('Number of Transactions by Company Country and User Origin')\n",
    "plt.xlabel(None)\n",
    "plt.ylabel(None)\n",
    "plt.legend(title='User origin')\n",
    "plt.show()"
   ]
  },
  {
   "cell_type": "markdown",
   "id": "97f1ed44",
   "metadata": {},
   "source": [
    "#### Exercise 6."
   ]
  },
  {
   "cell_type": "code",
   "execution_count": null,
   "id": "282168e6",
   "metadata": {},
   "outputs": [],
   "source": [
    "import matplotlib.pyplot as plt\n",
    "import seaborn as sns\n",
    "\n",
    "# scatterplot\n",
    "sns.scatterplot(data=dataset, \n",
    "                x='user_age', \n",
    "                y='amount',\n",
    "                hue='declined',\n",
    "                palette=[sns.color_palette('cividis')[0], sns.color_palette('cividis')[5]])\n",
    "\n",
    "plt.title('Transaction Amount vs. User Age')\n",
    "plt.xlabel('Age, years')\n",
    "plt.ylabel('Amount, €')\n",
    "plt.legend(title='Is declined?', bbox_to_anchor=(1.05, 0.5), loc='center left')\n",
    "plt.show()"
   ]
  },
  {
   "cell_type": "markdown",
   "id": "08710136",
   "metadata": {},
   "source": [
    "#### Exercise 7."
   ]
  },
  {
   "cell_type": "code",
   "execution_count": null,
   "id": "ae0fd815",
   "metadata": {},
   "outputs": [],
   "source": [
    "import matplotlib.pyplot as plt\n",
    "import seaborn as sns\n",
    "\n",
    "# scatterplots and distribution histograms with kde\n",
    "g = sns.pairplot(dataset, \n",
    "                 vars=['amount', 'declined', 'user_id', 'num_products', \n",
    "                       'user_age', 'user_lifetime'],\n",
    "                 diag_kind='hist',\n",
    "                 diag_kws={'kde': True}\n",
    "                )\n",
    "g.map_lower(sns.kdeplot, levels=4, color=\"orange\", linewidths=2)\n",
    "\n",
    "plt.show()"
   ]
  },
  {
   "cell_type": "markdown",
   "id": "5b6deaa5",
   "metadata": {},
   "source": [
    "### Level 2\n",
    "#### Exercise 1"
   ]
  },
  {
   "cell_type": "code",
   "execution_count": null,
   "id": "5a0036f5",
   "metadata": {},
   "outputs": [],
   "source": [
    "import matplotlib.pyplot as plt\n",
    "import seaborn as sns\n",
    "\n",
    "# heatmap of pearson correlation coefficients between numeric variables\n",
    "sns.heatmap(dataset.corr(numeric_only=True), \n",
    "            annot=True, fmt='.2f', annot_kws={'size': 10},\n",
    "            linewidths=1, cmap='coolwarm', vmax=1, vmin=-1)\n",
    "\n",
    "plt.title(\"Pearson Correlation between Numeric Variables\")\n",
    "plt.show()"
   ]
  },
  {
   "cell_type": "markdown",
   "id": "53df7e8f",
   "metadata": {},
   "source": [
    "#### Exercise 2"
   ]
  },
  {
   "cell_type": "code",
   "execution_count": null,
   "id": "352f09f1",
   "metadata": {},
   "outputs": [],
   "source": [
    "import matplotlib.pyplot as plt\n",
    "import seaborn as sns\n",
    "\n",
    "# transaction amount vs. user_age vs. user_country\n",
    "sns.jointplot(\n",
    "    data=dataset,\n",
    "    x='user_age', \n",
    "    y='amount',\n",
    "    hue='user_country',\n",
    "    kind='scatter',\n",
    "    palette=[sns.color_palette('cividis')[0], \n",
    "             sns.color_palette('cividis')[3],\n",
    "             sns.color_palette('cividis')[5]]\n",
    ")\n",
    "\n",
    "plt.suptitle('Transaction Amount vs. User Age', y=1.02)\n",
    "plt.xlabel('User Age, years')\n",
    "plt.ylabel('Transaction Amount, euros')\n",
    "plt.legend(title='User Origin', bbox_to_anchor=(1.2, 0.5), loc='center left')\n",
    "plt.show()"
   ]
  },
  {
   "cell_type": "markdown",
   "id": "89b05c9e",
   "metadata": {},
   "source": [
    "### Level 3\n",
    "#### Exercise 1"
   ]
  },
  {
   "cell_type": "code",
   "execution_count": null,
   "id": "7da60a6a",
   "metadata": {},
   "outputs": [],
   "source": [
    "import matplotlib.pyplot as plt\n",
    "import seaborn as sns\n",
    "\n",
    "# transaction amount vs. user_country\n",
    "sns.violinplot(data=dataset, y='amount', x='user_country', hue='user_country'\n",
    "               , palette=\"Greys\"\n",
    "              )\n",
    "sns.stripplot(data=dataset, y='amount', x='user_country', hue='user_country'\n",
    "              , palette=\"Greys_r\"\n",
    "              , alpha=0.5\n",
    "              , size=3, edgecolor='grey', linewidth=1)\n",
    "\n",
    "plt.title('Transaction Amount vs. User Origin')\n",
    "plt.ylabel('Amount, euro')\n",
    "plt.xlabel(None)\n",
    "plt.show()"
   ]
  },
  {
   "cell_type": "markdown",
   "id": "77837d6c",
   "metadata": {},
   "source": [
    "#### Exercise 2"
   ]
  },
  {
   "cell_type": "code",
   "execution_count": null,
   "id": "52e22696",
   "metadata": {},
   "outputs": [],
   "source": [
    "import matplotlib.pyplot as plt\n",
    "import seaborn as sns\n",
    "\n",
    "g = sns.FacetGrid(dataset, col='user_country', row='num_products', margin_titles=True, legend_out=True)\n",
    "g.map_dataframe(sns.scatterplot, x='user_age', \n",
    "                y='amount', hue='declined',\n",
    "                palette=[sns.color_palette('cividis')[0], sns.color_palette('cividis')[5]])\n",
    "\n",
    "g.add_legend(title='Is declined?', bbox_to_anchor=(1, 0.5), loc='center left')\n",
    "g.set_axis_labels(\"User age, years\", \"Transaction amount, €\")\n",
    "g.set_titles(col_template=\"Users from {col_name}\", row_template=\"Number of products = {row_name}\")\n",
    "plt.tight_layout()\n",
    "plt.show()"
   ]
  },
  {
   "cell_type": "code",
   "execution_count": null,
   "id": "2d9e1d53-1973-49fa-9b19-75caa6815796",
   "metadata": {},
   "outputs": [],
   "source": []
  }
 ],
 "metadata": {
  "kernelspec": {
   "display_name": "Python 3 (ipykernel)",
   "language": "python",
   "name": "python3"
  },
  "language_info": {
   "codemirror_mode": {
    "name": "ipython",
    "version": 3
   },
   "file_extension": ".py",
   "mimetype": "text/x-python",
   "name": "python",
   "nbconvert_exporter": "python",
   "pygments_lexer": "ipython3",
   "version": "3.10.14"
  }
 },
 "nbformat": 4,
 "nbformat_minor": 5
}
